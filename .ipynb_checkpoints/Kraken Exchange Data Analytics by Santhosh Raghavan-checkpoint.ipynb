{
 "cells": [
  {
   "cell_type": "markdown",
   "metadata": {},
   "source": [
    "# Introduction\n",
    "### This project analyzes and visualizes historical data of Bitcoin prices in USD on Kraken and makes predictions for future using basic machine learning\n",
    "\n",
    "- Kraken: a leading US-based cryptocurrency exchange\n",
    "- Libraries used:\n",
    "    - Pandas: used for data manipulation and organization through the use of data frames\n",
    "    - NumPy: used for creating multi-dimensional arrays of data\n",
    "    - Matplotlib: used for data visualization (graphs and charts)\n",
    "    - Scikit-learn (MinMaxScaler): used to change the data points into the same scale\n",
    "    - Keras: used for deep learning prediction models (uses a TensorFlow backend)"
   ]
  },
  {
   "cell_type": "code",
   "execution_count": 22,
   "metadata": {},
   "outputs": [],
   "source": [
    "import pandas as pd\n",
    "import numpy as np\n",
    "import matplotlib.pyplot as plt\n",
    "\n",
    "from sklearn.preprocessing import MinMaxScaler\n",
    "\n",
    "# deep learning library to build ml models\n",
    "from keras.models import Sequential\n",
    "from keras.layers import Dense\n",
    "from keras.layers import LSTM"
   ]
  },
  {
   "cell_type": "markdown",
   "metadata": {},
   "source": [
    "### Using Pandas to set up a data frame to read in the data"
   ]
  },
  {
   "cell_type": "code",
   "execution_count": 34,
   "metadata": {},
   "outputs": [
    {
     "data": {
      "text/html": [
       "<div>\n",
       "<style scoped>\n",
       "    .dataframe tbody tr th:only-of-type {\n",
       "        vertical-align: middle;\n",
       "    }\n",
       "\n",
       "    .dataframe tbody tr th {\n",
       "        vertical-align: top;\n",
       "    }\n",
       "\n",
       "    .dataframe thead th {\n",
       "        text-align: right;\n",
       "    }\n",
       "</style>\n",
       "<table border=\"1\" class=\"dataframe\">\n",
       "  <thead>\n",
       "    <tr style=\"text-align: right;\">\n",
       "      <th></th>\n",
       "      <th>Date</th>\n",
       "      <th>Symbol</th>\n",
       "      <th>Open</th>\n",
       "      <th>High</th>\n",
       "      <th>Low</th>\n",
       "      <th>Close</th>\n",
       "      <th>Volume BTC</th>\n",
       "      <th>Volume USD</th>\n",
       "    </tr>\n",
       "  </thead>\n",
       "  <tbody>\n",
       "    <tr>\n",
       "      <td>2313</td>\n",
       "      <td>2013-10-06</td>\n",
       "      <td>BTCUSD</td>\n",
       "      <td>238.00</td>\n",
       "      <td>238.00</td>\n",
       "      <td>122.00</td>\n",
       "      <td>122.00</td>\n",
       "      <td>0.10</td>\n",
       "      <td>12.20</td>\n",
       "    </tr>\n",
       "    <tr>\n",
       "      <td>2312</td>\n",
       "      <td>2013-10-07</td>\n",
       "      <td>BTCUSD</td>\n",
       "      <td>122.00</td>\n",
       "      <td>123.61</td>\n",
       "      <td>122.00</td>\n",
       "      <td>123.61</td>\n",
       "      <td>0.10</td>\n",
       "      <td>12.36</td>\n",
       "    </tr>\n",
       "    <tr>\n",
       "      <td>2311</td>\n",
       "      <td>2013-10-08</td>\n",
       "      <td>BTCUSD</td>\n",
       "      <td>123.61</td>\n",
       "      <td>124.19</td>\n",
       "      <td>123.61</td>\n",
       "      <td>124.18</td>\n",
       "      <td>3.99</td>\n",
       "      <td>495.14</td>\n",
       "    </tr>\n",
       "    <tr>\n",
       "      <td>2310</td>\n",
       "      <td>2013-10-09</td>\n",
       "      <td>BTCUSD</td>\n",
       "      <td>124.18</td>\n",
       "      <td>124.18</td>\n",
       "      <td>123.84</td>\n",
       "      <td>123.84</td>\n",
       "      <td>2.82</td>\n",
       "      <td>349.95</td>\n",
       "    </tr>\n",
       "    <tr>\n",
       "      <td>2309</td>\n",
       "      <td>2013-10-10</td>\n",
       "      <td>BTCUSD</td>\n",
       "      <td>123.84</td>\n",
       "      <td>125.86</td>\n",
       "      <td>123.84</td>\n",
       "      <td>125.86</td>\n",
       "      <td>2.00</td>\n",
       "      <td>251.71</td>\n",
       "    </tr>\n",
       "  </tbody>\n",
       "</table>\n",
       "</div>"
      ],
      "text/plain": [
       "            Date  Symbol    Open    High     Low   Close  Volume BTC  \\\n",
       "2313  2013-10-06  BTCUSD  238.00  238.00  122.00  122.00        0.10   \n",
       "2312  2013-10-07  BTCUSD  122.00  123.61  122.00  123.61        0.10   \n",
       "2311  2013-10-08  BTCUSD  123.61  124.19  123.61  124.18        3.99   \n",
       "2310  2013-10-09  BTCUSD  124.18  124.18  123.84  123.84        2.82   \n",
       "2309  2013-10-10  BTCUSD  123.84  125.86  123.84  125.86        2.00   \n",
       "\n",
       "      Volume USD  \n",
       "2313       12.20  \n",
       "2312       12.36  \n",
       "2311      495.14  \n",
       "2310      349.95  \n",
       "2309      251.71  "
      ]
     },
     "execution_count": 34,
     "metadata": {},
     "output_type": "execute_result"
    }
   ],
   "source": [
    "# Setting up the data frame\n",
    "df = pd.read_csv('venv/Kraken_BTCUSD_d.csv', header=0)\n",
    "data = df.iloc[::-1]  # reverse data frame to make the prices go in chronological order\n",
    "data.head()"
   ]
  },
  {
   "cell_type": "markdown",
   "metadata": {},
   "source": [
    "### Using Matplotlib to visualize the data"
   ]
  },
  {
   "cell_type": "code",
   "execution_count": 24,
   "metadata": {},
   "outputs": [
    {
     "data": {
      "image/png": "[encoded data removed]",
      "text/plain": [
       "<Figure size 432x288 with 1 Axes>"
      ]
     },
     "metadata": {
      "needs_background": "light"
     },
     "output_type": "display_data"
    }
   ],
   "source": [
    "# Line Graph for the real data set\n",
    "plt.plot(data['Date'], data['Close'])\n",
    "plt.xticks(data['Date'][::365])\n",
    "plt.xticks(rotation=45)\n",
    "plt.xlabel('Date')\n",
    "plt.ylabel('Price (USD)')\n",
    "plt.title('Kraken BTC-USD Exchange Prices Over Time')\n",
    "plt.show()"
   ]
  },
  {
   "cell_type": "markdown",
   "metadata": {},
   "source": [
    "### Using Scikit-learn MinMaxScaler to set up the price data"
   ]
  },
  {
   "cell_type": "code",
   "execution_count": 25,
   "metadata": {},
   "outputs": [],
   "source": [
    "price_data = data.iloc[:, 5:6] #getting only the close price data\n",
    "scaler = MinMaxScaler()\n",
    "\n",
    "#scales the data points to much smaller values so they can easily be used in an LSTM model\n",
    "price_data = scaler.fit_transform(price_data)"
   ]
  },
  {
   "cell_type": "markdown",
   "metadata": {},
   "source": [
    "### Creating training and test sets from the data"
   ]
  },
  {
   "cell_type": "code",
   "execution_count": 26,
   "metadata": {},
   "outputs": [],
   "source": [
    "# splitting the data (80% for training and 20% for testing)\n",
    "split = int(len(price_data) * 0.8)\n",
    "train_set = price_data[:split]\n",
    "test_set = price_data[split:]\n",
    "\n",
    "x_train = train_set[0:len(train_set)-1]  # input data\n",
    "y_train = train_set[1:len(train_set)]    # target data\n",
    "\n",
    "# test set for x-values and y-values\n",
    "x_test = test_set[0:len(test_set)-1]\n",
    "y_test = test_set[1:len(test_set)]\n",
    "\n",
    "# reshaping input data into a numpy array that can be used in our model\n",
    "x_train = np.reshape(x_train, (len(x_train), 1, x_train.shape[1]))\n",
    "x_test = np.reshape(x_test, (len(x_test), 1, x_test.shape[1]))"
   ]
  },
  {
   "cell_type": "markdown",
   "metadata": {},
   "source": [
    "### Using a Keras Sequential deep learning model\n",
    "- LSTM (Long Short Term Memory): a type of Recurrent Neural Network capable of retaining information for large amounts of time\n",
    "- Mean Squared Error: a loss function that will get minimized as the model learns\n",
    "- Adam Optimizer: an efficient algorithm to iteratively predict values based on training data\n",
    "- Accuracy: the metric that is being measured in the model\n",
    "- Epoch: an iteration of the model's learning process"
   ]
  },
  {
   "cell_type": "code",
   "execution_count": 35,
   "metadata": {
    "scrolled": true
   },
   "outputs": [
    {
     "name": "stdout",
     "output_type": "stream",
     "text": [
      "Epoch 1/50\n",
      "1850/1850 [==============================] - 1s 643us/step - loss: 0.0219 - accuracy: 0.0000e+00\n",
      "Epoch 2/50\n",
      "1850/1850 [==============================] - 0s 170us/step - loss: 0.0384 - accuracy: 0.0000e+00\n",
      "Epoch 3/50\n",
      "1850/1850 [==============================] - 0s 171us/step - loss: 0.0166 - accuracy: 0.0000e+00\n",
      "Epoch 4/50\n",
      "1850/1850 [==============================] - 0s 172us/step - loss: 0.0045 - accuracy: 5.4054e-04\n",
      "Epoch 5/50\n",
      "1850/1850 [==============================] - 0s 175us/step - loss: 8.3341e-04 - accuracy: 5.4054e-04\n",
      "Epoch 6/50\n",
      "1850/1850 [==============================] - 0s 174us/step - loss: 2.4730e-04 - accuracy: 5.4054e-04\n",
      "Epoch 7/50\n",
      "1850/1850 [==============================] - 0s 175us/step - loss: 3.6287e-04 - accuracy: 5.4054e-04\n",
      "Epoch 8/50\n",
      "1850/1850 [==============================] - 0s 172us/step - loss: 2.3447e-04 - accuracy: 5.4054e-04\n",
      "Epoch 9/50\n",
      "1850/1850 [==============================] - 0s 181us/step - loss: 2.6203e-04 - accuracy: 5.4054e-04\n",
      "Epoch 10/50\n",
      "1850/1850 [==============================] - 0s 185us/step - loss: 2.3611e-04 - accuracy: 5.4054e-04\n",
      "Epoch 11/50\n",
      "1850/1850 [==============================] - 0s 189us/step - loss: 2.3299e-04 - accuracy: 5.4054e-04\n",
      "Epoch 12/50\n",
      "1850/1850 [==============================] - 0s 169us/step - loss: 2.2443e-04 - accuracy: 5.4054e-04\n",
      "Epoch 13/50\n",
      "1850/1850 [==============================] - 0s 188us/step - loss: 2.1727e-04 - accuracy: 5.4054e-04\n",
      "Epoch 14/50\n",
      "1850/1850 [==============================] - 0s 175us/step - loss: 2.1083e-04 - accuracy: 5.4054e-04\n",
      "Epoch 15/50\n",
      "1850/1850 [==============================] - 0s 171us/step - loss: 2.0534e-04 - accuracy: 5.4054e-04\n",
      "Epoch 16/50\n",
      "1850/1850 [==============================] - 0s 172us/step - loss: 2.0112e-04 - accuracy: 5.4054e-04\n",
      "Epoch 17/50\n",
      "1850/1850 [==============================] - 0s 171us/step - loss: 1.9862e-04 - accuracy: 5.4054e-04\n",
      "Epoch 18/50\n",
      "1850/1850 [==============================] - 0s 178us/step - loss: 1.9855e-04 - accuracy: 5.4054e-04\n",
      "Epoch 19/50\n",
      "1850/1850 [==============================] - 0s 186us/step - loss: 2.0211e-04 - accuracy: 5.4054e-04\n",
      "Epoch 20/50\n",
      "1850/1850 [==============================] - 0s 174us/step - loss: 2.1144e-04 - accuracy: 5.4054e-04\n",
      "Epoch 21/50\n",
      "1850/1850 [==============================] - 0s 171us/step - loss: 2.3034e-04 - accuracy: 5.4054e-04\n",
      "Epoch 22/50\n",
      "1850/1850 [==============================] - 0s 171us/step - loss: 2.6563e-04 - accuracy: 5.4054e-04\n",
      "Epoch 23/50\n",
      "1850/1850 [==============================] - 0s 172us/step - loss: 3.2948e-04 - accuracy: 5.4054e-04\n",
      "Epoch 24/50\n",
      "1850/1850 [==============================] - 0s 179us/step - loss: 4.4211e-04 - accuracy: 5.4054e-04\n",
      "Epoch 25/50\n",
      "1850/1850 [==============================] - 0s 196us/step - loss: 6.2944e-04 - accuracy: 5.4054e-04\n",
      "Epoch 26/50\n",
      "1850/1850 [==============================] - 0s 187us/step - loss: 8.9644e-04 - accuracy: 5.4054e-04\n",
      "Epoch 27/50\n",
      "1850/1850 [==============================] - 0s 180us/step - loss: 0.0012 - accuracy: 5.4054e-04\n",
      "Epoch 28/50\n",
      "1850/1850 [==============================] - 0s 202us/step - loss: 0.0012 - accuracy: 5.4054e-04\n",
      "Epoch 29/50\n",
      "1850/1850 [==============================] - 1s 279us/step - loss: 9.7955e-04 - accuracy: 5.4054e-04\n",
      "Epoch 30/50\n",
      "1850/1850 [==============================] - 0s 186us/step - loss: 6.7440e-04 - accuracy: 5.4054e-04\n",
      "Epoch 31/50\n",
      "1850/1850 [==============================] - 0s 183us/step - loss: 5.0492e-04 - accuracy: 5.4054e-04\n",
      "Epoch 32/50\n",
      "1850/1850 [==============================] - 0s 172us/step - loss: 4.5830e-04 - accuracy: 5.4054e-04\n",
      "Epoch 33/50\n",
      "1850/1850 [==============================] - 0s 169us/step - loss: 4.4247e-04 - accuracy: 5.4054e-04\n",
      "Epoch 34/50\n",
      "1850/1850 [==============================] - 0s 165us/step - loss: 4.2000e-04 - accuracy: 5.4054e-04\n",
      "Epoch 35/50\n",
      "1850/1850 [==============================] - 0s 173us/step - loss: 3.9147e-04 - accuracy: 5.4054e-04\n",
      "Epoch 36/50\n",
      "1850/1850 [==============================] - 0s 176us/step - loss: 3.6267e-04 - accuracy: 5.4054e-04\n",
      "Epoch 37/50\n",
      "1850/1850 [==============================] - 0s 198us/step - loss: 3.3754e-04 - accuracy: 5.4054e-04\n",
      "Epoch 38/50\n",
      "1850/1850 [==============================] - 0s 212us/step - loss: 3.1967e-04 - accuracy: 5.4054e-04\n",
      "Epoch 39/50\n",
      "1850/1850 [==============================] - 1s 279us/step - loss: 3.1458e-04 - accuracy: 5.4054e-04\n",
      "Epoch 40/50\n",
      "1850/1850 [==============================] - 0s 263us/step - loss: 3.3296e-04 - accuracy: 5.4054e-04\n",
      "Epoch 41/50\n",
      "1850/1850 [==============================] - 0s 205us/step - loss: 3.9707e-04 - accuracy: 5.4054e-04\n",
      "Epoch 42/50\n",
      "1850/1850 [==============================] - 0s 162us/step - loss: 5.5176e-04 - accuracy: 5.4054e-04\n",
      "Epoch 43/50\n",
      "1850/1850 [==============================] - 0s 155us/step - loss: 8.6549e-04 - accuracy: 5.4054e-04\n",
      "Epoch 44/50\n",
      "1850/1850 [==============================] - 0s 160us/step - loss: 0.0013 - accuracy: 5.4054e-04\n",
      "Epoch 45/50\n",
      "1850/1850 [==============================] - 1s 430us/step - loss: 0.0016 - accuracy: 5.4054e-04TA: 0s - loss: 0.0010 - accuracy: 6.5104\n",
      "Epoch 46/50\n",
      "1850/1850 [==============================] - 1s 303us/step - loss: 0.0012 - accuracy: 5.4054e-04\n",
      "Epoch 47/50\n",
      "1850/1850 [==============================] - 0s 158us/step - loss: 6.9695e-04 - accuracy: 5.4054e-04\n",
      "Epoch 48/50\n",
      "1850/1850 [==============================] - 0s 148us/step - loss: 6.2250e-04 - accuracy: 5.4054e-04\n",
      "Epoch 49/50\n",
      "1850/1850 [==============================] - 0s 147us/step - loss: 6.5162e-04 - accuracy: 5.4054e-04\n",
      "Epoch 50/50\n",
      "1850/1850 [==============================] - 0s 156us/step - loss: 5.8582e-04 - accuracy: 5.4054e-04\n"
     ]
    },
    {
     "data": {
      "text/plain": [
       "<keras.callbacks.callbacks.History at 0x13e8f8790>"
      ]
     },
     "execution_count": 35,
     "metadata": {},
     "output_type": "execute_result"
    }
   ],
   "source": [
    "model = Sequential()  # initialize a sequential keras model\n",
    "# add an LSTM Layer to the model (input)\n",
    "model.add(LSTM(128, return_sequences=True, input_shape=(x_train.shape[1], x_train.shape[2])))\n",
    "model.add(LSTM(128))  # add a second LSTM layer from the hidden sequences of the first layer (for the output)\n",
    "model.add(Dense(1))   # followed by a dense layer to make sure there is a 1-dimensional output\n",
    "\n",
    "# compile model using an adam optimizer\n",
    "model.compile(loss='mean_squared_error', optimizer='adam', metrics=['accuracy'])\n",
    "model.fit(x_train, y_train, epochs=50, shuffle=False)  # fits the model to the data, with a set number of iterations"
   ]
  },
  {
   "cell_type": "code",
   "execution_count": 36,
   "metadata": {},
   "outputs": [],
   "source": [
    "predicted_price = model.predict(x_test)  # Generates output predictions for the input samples in a numpy array.\n",
    "predicted_price = scaler.inverse_transform(predicted_price)  # scales the predicted data back up\n",
    "real_price = scaler.inverse_transform(y_test)   # scales the real data back up"
   ]
  },
  {
   "cell_type": "markdown",
   "metadata": {},
   "source": [
    "### Plotting the predicted values and and real values to visualize the accuracy of the model"
   ]
  },
  {
   "cell_type": "code",
   "execution_count": 44,
   "metadata": {
    "scrolled": true
   },
   "outputs": [
    {
     "data": {
      "image/png": "[encoded data removed]",
      "text/plain": [
       "<Figure size 432x288 with 1 Axes>"
      ]
     },
     "metadata": {
      "needs_background": "light"
     },
     "output_type": "display_data"
    }
   ],
   "source": [
    "# Line Graph to show the predicted price vs the real price\n",
    "plt.plot(predicted_price, color='blue', label='Predicted Price of Bitcoin on Kraken Exchange')\n",
    "plt.plot(real_price, color='red', label='Real Price of Bitcoin on Kraken Exchange')\n",
    "plt.title('Real vs. Predicted Kraken BTC-USD Exchange Prices Over Time')\n",
    "plt.xlabel('Time (Days)')\n",
    "plt.ylabel('Price (USD)')\n",
    "plt.legend()\n",
    "plt.show()"
   ]
  },
  {
   "cell_type": "markdown",
   "metadata": {},
   "source": [
    "## Conclusion\n",
    "\n",
    "### The line graph shows that my model was quite accurate since the graphs of both sets of data are almost identical. It starts off inaccurate and then starts to improve its accuracy. This makes sense since the model will learn by predicting values and using the loss functions and accuracy metrics to make better predictions in the future.\n",
    "\n",
    "### Hedge funds and cryptocurrency investors probably use similar programs and algorithms to predict the stock/crypto market."
   ]
  },
  {
   "cell_type": "markdown",
   "metadata": {},
   "source": [
    "## References\n",
    "- [Keras](https://keras.io/)\n",
    "- [NumPy](https://numpy.org/devdocs/)\n",
    "- [Pandas](https://pandas.pydata.org/docs/)\n",
    "- [Jupyter Notebook](https://jupyter.org/documentation)\n",
    "- [Historical Kraken BTCUSD Data](https://www.cryptodatadownload.com/)"
   ]
  },
  {
   "cell_type": "markdown",
   "metadata": {},
   "source": [
    "# a project by Santhosh Raghavan"
   ]
  }
 ],
 "metadata": {
  "kernelspec": {
   "display_name": "Python 3",
   "language": "python",
   "name": "python3"
  },
  "language_info": {
   "codemirror_mode": {
    "name": "ipython",
    "version": 3
   },
   "file_extension": ".py",
   "mimetype": "text/x-python",
   "name": "python",
   "nbconvert_exporter": "python",
   "pygments_lexer": "ipython3",
   "version": "3.7.4"
  }
 },
 "nbformat": 4,
 "nbformat_minor": 2
}
